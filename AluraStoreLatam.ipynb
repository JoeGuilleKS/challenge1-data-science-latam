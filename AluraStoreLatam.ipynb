{
  "nbformat": 4,
  "nbformat_minor": 0,
  "metadata": {
    "colab": {
      "provenance": []
    },
    "kernelspec": {
      "name": "python3",
      "display_name": "Python 3"
    },
    "language_info": {
      "name": "python"
    }
  },
  "cells": [
    {
      "cell_type": "markdown",
      "source": [
        "### Importación de datos\n",
        "\n"
      ],
      "metadata": {
        "id": "RhEdWd9YUR6H"
      }
    },
    {
      "cell_type": "code",
      "execution_count": 8,
      "metadata": {
        "colab": {
          "base_uri": "https://localhost:8080/",
          "height": 206
        },
        "id": "T3EvaeQ_INIL",
        "outputId": "b207dbea-0722-40b5-88f2-00f4caa3a144"
      },
      "outputs": [
        {
          "output_type": "execute_result",
          "data": {
            "text/plain": [
              "            Producto Categoría del Producto    Precio  Costo de envío  \\\n",
              "0  Asistente virtual           Electrónicos  164300.0          6900.0   \n",
              "1    Mesa de comedor                Muebles  192300.0          8400.0   \n",
              "2      Juego de mesa               Juguetes  209600.0         15900.0   \n",
              "3         Microondas      Electrodomésticos  757500.0         41000.0   \n",
              "4   Silla de oficina                Muebles  335200.0         20200.0   \n",
              "\n",
              "  Fecha de Compra         Vendedor Lugar de Compra  Calificación  \\\n",
              "0      16/01/2021      Pedro Gomez          Bogotá             4   \n",
              "1      18/05/2022  Beatriz Morales        Medellín             1   \n",
              "2      15/03/2021   Juan Fernandez       Cartagena             1   \n",
              "3      03/05/2022   Juan Fernandez            Cali             4   \n",
              "4      07/11/2020    Maria Alfonso        Medellín             5   \n",
              "\n",
              "       Método de pago  Cantidad de cuotas       lat       lon  \n",
              "0  Tarjeta de crédito                   8   4.60971 -74.08175  \n",
              "1  Tarjeta de crédito                   4   6.25184 -75.56359  \n",
              "2  Tarjeta de crédito                   1  10.39972 -75.51444  \n",
              "3               Nequi                   1   3.43722 -76.52250  \n",
              "4               Nequi                   1   6.25184 -75.56359  "
            ],
            "text/html": [
              "\n",
              "  <div id=\"df-29bbc5ea-4333-472e-bc07-00ac856af158\" class=\"colab-df-container\">\n",
              "    <div>\n",
              "<style scoped>\n",
              "    .dataframe tbody tr th:only-of-type {\n",
              "        vertical-align: middle;\n",
              "    }\n",
              "\n",
              "    .dataframe tbody tr th {\n",
              "        vertical-align: top;\n",
              "    }\n",
              "\n",
              "    .dataframe thead th {\n",
              "        text-align: right;\n",
              "    }\n",
              "</style>\n",
              "<table border=\"1\" class=\"dataframe\">\n",
              "  <thead>\n",
              "    <tr style=\"text-align: right;\">\n",
              "      <th></th>\n",
              "      <th>Producto</th>\n",
              "      <th>Categoría del Producto</th>\n",
              "      <th>Precio</th>\n",
              "      <th>Costo de envío</th>\n",
              "      <th>Fecha de Compra</th>\n",
              "      <th>Vendedor</th>\n",
              "      <th>Lugar de Compra</th>\n",
              "      <th>Calificación</th>\n",
              "      <th>Método de pago</th>\n",
              "      <th>Cantidad de cuotas</th>\n",
              "      <th>lat</th>\n",
              "      <th>lon</th>\n",
              "    </tr>\n",
              "  </thead>\n",
              "  <tbody>\n",
              "    <tr>\n",
              "      <th>0</th>\n",
              "      <td>Asistente virtual</td>\n",
              "      <td>Electrónicos</td>\n",
              "      <td>164300.0</td>\n",
              "      <td>6900.0</td>\n",
              "      <td>16/01/2021</td>\n",
              "      <td>Pedro Gomez</td>\n",
              "      <td>Bogotá</td>\n",
              "      <td>4</td>\n",
              "      <td>Tarjeta de crédito</td>\n",
              "      <td>8</td>\n",
              "      <td>4.60971</td>\n",
              "      <td>-74.08175</td>\n",
              "    </tr>\n",
              "    <tr>\n",
              "      <th>1</th>\n",
              "      <td>Mesa de comedor</td>\n",
              "      <td>Muebles</td>\n",
              "      <td>192300.0</td>\n",
              "      <td>8400.0</td>\n",
              "      <td>18/05/2022</td>\n",
              "      <td>Beatriz Morales</td>\n",
              "      <td>Medellín</td>\n",
              "      <td>1</td>\n",
              "      <td>Tarjeta de crédito</td>\n",
              "      <td>4</td>\n",
              "      <td>6.25184</td>\n",
              "      <td>-75.56359</td>\n",
              "    </tr>\n",
              "    <tr>\n",
              "      <th>2</th>\n",
              "      <td>Juego de mesa</td>\n",
              "      <td>Juguetes</td>\n",
              "      <td>209600.0</td>\n",
              "      <td>15900.0</td>\n",
              "      <td>15/03/2021</td>\n",
              "      <td>Juan Fernandez</td>\n",
              "      <td>Cartagena</td>\n",
              "      <td>1</td>\n",
              "      <td>Tarjeta de crédito</td>\n",
              "      <td>1</td>\n",
              "      <td>10.39972</td>\n",
              "      <td>-75.51444</td>\n",
              "    </tr>\n",
              "    <tr>\n",
              "      <th>3</th>\n",
              "      <td>Microondas</td>\n",
              "      <td>Electrodomésticos</td>\n",
              "      <td>757500.0</td>\n",
              "      <td>41000.0</td>\n",
              "      <td>03/05/2022</td>\n",
              "      <td>Juan Fernandez</td>\n",
              "      <td>Cali</td>\n",
              "      <td>4</td>\n",
              "      <td>Nequi</td>\n",
              "      <td>1</td>\n",
              "      <td>3.43722</td>\n",
              "      <td>-76.52250</td>\n",
              "    </tr>\n",
              "    <tr>\n",
              "      <th>4</th>\n",
              "      <td>Silla de oficina</td>\n",
              "      <td>Muebles</td>\n",
              "      <td>335200.0</td>\n",
              "      <td>20200.0</td>\n",
              "      <td>07/11/2020</td>\n",
              "      <td>Maria Alfonso</td>\n",
              "      <td>Medellín</td>\n",
              "      <td>5</td>\n",
              "      <td>Nequi</td>\n",
              "      <td>1</td>\n",
              "      <td>6.25184</td>\n",
              "      <td>-75.56359</td>\n",
              "    </tr>\n",
              "  </tbody>\n",
              "</table>\n",
              "</div>\n",
              "    <div class=\"colab-df-buttons\">\n",
              "\n",
              "  <div class=\"colab-df-container\">\n",
              "    <button class=\"colab-df-convert\" onclick=\"convertToInteractive('df-29bbc5ea-4333-472e-bc07-00ac856af158')\"\n",
              "            title=\"Convert this dataframe to an interactive table.\"\n",
              "            style=\"display:none;\">\n",
              "\n",
              "  <svg xmlns=\"http://www.w3.org/2000/svg\" height=\"24px\" viewBox=\"0 -960 960 960\">\n",
              "    <path d=\"M120-120v-720h720v720H120Zm60-500h600v-160H180v160Zm220 220h160v-160H400v160Zm0 220h160v-160H400v160ZM180-400h160v-160H180v160Zm440 0h160v-160H620v160ZM180-180h160v-160H180v160Zm440 0h160v-160H620v160Z\"/>\n",
              "  </svg>\n",
              "    </button>\n",
              "\n",
              "  <style>\n",
              "    .colab-df-container {\n",
              "      display:flex;\n",
              "      gap: 12px;\n",
              "    }\n",
              "\n",
              "    .colab-df-convert {\n",
              "      background-color: #E8F0FE;\n",
              "      border: none;\n",
              "      border-radius: 50%;\n",
              "      cursor: pointer;\n",
              "      display: none;\n",
              "      fill: #1967D2;\n",
              "      height: 32px;\n",
              "      padding: 0 0 0 0;\n",
              "      width: 32px;\n",
              "    }\n",
              "\n",
              "    .colab-df-convert:hover {\n",
              "      background-color: #E2EBFA;\n",
              "      box-shadow: 0px 1px 2px rgba(60, 64, 67, 0.3), 0px 1px 3px 1px rgba(60, 64, 67, 0.15);\n",
              "      fill: #174EA6;\n",
              "    }\n",
              "\n",
              "    .colab-df-buttons div {\n",
              "      margin-bottom: 4px;\n",
              "    }\n",
              "\n",
              "    [theme=dark] .colab-df-convert {\n",
              "      background-color: #3B4455;\n",
              "      fill: #D2E3FC;\n",
              "    }\n",
              "\n",
              "    [theme=dark] .colab-df-convert:hover {\n",
              "      background-color: #434B5C;\n",
              "      box-shadow: 0px 1px 3px 1px rgba(0, 0, 0, 0.15);\n",
              "      filter: drop-shadow(0px 1px 2px rgba(0, 0, 0, 0.3));\n",
              "      fill: #FFFFFF;\n",
              "    }\n",
              "  </style>\n",
              "\n",
              "    <script>\n",
              "      const buttonEl =\n",
              "        document.querySelector('#df-29bbc5ea-4333-472e-bc07-00ac856af158 button.colab-df-convert');\n",
              "      buttonEl.style.display =\n",
              "        google.colab.kernel.accessAllowed ? 'block' : 'none';\n",
              "\n",
              "      async function convertToInteractive(key) {\n",
              "        const element = document.querySelector('#df-29bbc5ea-4333-472e-bc07-00ac856af158');\n",
              "        const dataTable =\n",
              "          await google.colab.kernel.invokeFunction('convertToInteractive',\n",
              "                                                    [key], {});\n",
              "        if (!dataTable) return;\n",
              "\n",
              "        const docLinkHtml = 'Like what you see? Visit the ' +\n",
              "          '<a target=\"_blank\" href=https://colab.research.google.com/notebooks/data_table.ipynb>data table notebook</a>'\n",
              "          + ' to learn more about interactive tables.';\n",
              "        element.innerHTML = '';\n",
              "        dataTable['output_type'] = 'display_data';\n",
              "        await google.colab.output.renderOutput(dataTable, element);\n",
              "        const docLink = document.createElement('div');\n",
              "        docLink.innerHTML = docLinkHtml;\n",
              "        element.appendChild(docLink);\n",
              "      }\n",
              "    </script>\n",
              "  </div>\n",
              "\n",
              "\n",
              "    <div id=\"df-dcf19013-0a60-4fd9-b2bc-577b6aaef29c\">\n",
              "      <button class=\"colab-df-quickchart\" onclick=\"quickchart('df-dcf19013-0a60-4fd9-b2bc-577b6aaef29c')\"\n",
              "                title=\"Suggest charts\"\n",
              "                style=\"display:none;\">\n",
              "\n",
              "<svg xmlns=\"http://www.w3.org/2000/svg\" height=\"24px\"viewBox=\"0 0 24 24\"\n",
              "     width=\"24px\">\n",
              "    <g>\n",
              "        <path d=\"M19 3H5c-1.1 0-2 .9-2 2v14c0 1.1.9 2 2 2h14c1.1 0 2-.9 2-2V5c0-1.1-.9-2-2-2zM9 17H7v-7h2v7zm4 0h-2V7h2v10zm4 0h-2v-4h2v4z\"/>\n",
              "    </g>\n",
              "</svg>\n",
              "      </button>\n",
              "\n",
              "<style>\n",
              "  .colab-df-quickchart {\n",
              "      --bg-color: #E8F0FE;\n",
              "      --fill-color: #1967D2;\n",
              "      --hover-bg-color: #E2EBFA;\n",
              "      --hover-fill-color: #174EA6;\n",
              "      --disabled-fill-color: #AAA;\n",
              "      --disabled-bg-color: #DDD;\n",
              "  }\n",
              "\n",
              "  [theme=dark] .colab-df-quickchart {\n",
              "      --bg-color: #3B4455;\n",
              "      --fill-color: #D2E3FC;\n",
              "      --hover-bg-color: #434B5C;\n",
              "      --hover-fill-color: #FFFFFF;\n",
              "      --disabled-bg-color: #3B4455;\n",
              "      --disabled-fill-color: #666;\n",
              "  }\n",
              "\n",
              "  .colab-df-quickchart {\n",
              "    background-color: var(--bg-color);\n",
              "    border: none;\n",
              "    border-radius: 50%;\n",
              "    cursor: pointer;\n",
              "    display: none;\n",
              "    fill: var(--fill-color);\n",
              "    height: 32px;\n",
              "    padding: 0;\n",
              "    width: 32px;\n",
              "  }\n",
              "\n",
              "  .colab-df-quickchart:hover {\n",
              "    background-color: var(--hover-bg-color);\n",
              "    box-shadow: 0 1px 2px rgba(60, 64, 67, 0.3), 0 1px 3px 1px rgba(60, 64, 67, 0.15);\n",
              "    fill: var(--button-hover-fill-color);\n",
              "  }\n",
              "\n",
              "  .colab-df-quickchart-complete:disabled,\n",
              "  .colab-df-quickchart-complete:disabled:hover {\n",
              "    background-color: var(--disabled-bg-color);\n",
              "    fill: var(--disabled-fill-color);\n",
              "    box-shadow: none;\n",
              "  }\n",
              "\n",
              "  .colab-df-spinner {\n",
              "    border: 2px solid var(--fill-color);\n",
              "    border-color: transparent;\n",
              "    border-bottom-color: var(--fill-color);\n",
              "    animation:\n",
              "      spin 1s steps(1) infinite;\n",
              "  }\n",
              "\n",
              "  @keyframes spin {\n",
              "    0% {\n",
              "      border-color: transparent;\n",
              "      border-bottom-color: var(--fill-color);\n",
              "      border-left-color: var(--fill-color);\n",
              "    }\n",
              "    20% {\n",
              "      border-color: transparent;\n",
              "      border-left-color: var(--fill-color);\n",
              "      border-top-color: var(--fill-color);\n",
              "    }\n",
              "    30% {\n",
              "      border-color: transparent;\n",
              "      border-left-color: var(--fill-color);\n",
              "      border-top-color: var(--fill-color);\n",
              "      border-right-color: var(--fill-color);\n",
              "    }\n",
              "    40% {\n",
              "      border-color: transparent;\n",
              "      border-right-color: var(--fill-color);\n",
              "      border-top-color: var(--fill-color);\n",
              "    }\n",
              "    60% {\n",
              "      border-color: transparent;\n",
              "      border-right-color: var(--fill-color);\n",
              "    }\n",
              "    80% {\n",
              "      border-color: transparent;\n",
              "      border-right-color: var(--fill-color);\n",
              "      border-bottom-color: var(--fill-color);\n",
              "    }\n",
              "    90% {\n",
              "      border-color: transparent;\n",
              "      border-bottom-color: var(--fill-color);\n",
              "    }\n",
              "  }\n",
              "</style>\n",
              "\n",
              "      <script>\n",
              "        async function quickchart(key) {\n",
              "          const quickchartButtonEl =\n",
              "            document.querySelector('#' + key + ' button');\n",
              "          quickchartButtonEl.disabled = true;  // To prevent multiple clicks.\n",
              "          quickchartButtonEl.classList.add('colab-df-spinner');\n",
              "          try {\n",
              "            const charts = await google.colab.kernel.invokeFunction(\n",
              "                'suggestCharts', [key], {});\n",
              "          } catch (error) {\n",
              "            console.error('Error during call to suggestCharts:', error);\n",
              "          }\n",
              "          quickchartButtonEl.classList.remove('colab-df-spinner');\n",
              "          quickchartButtonEl.classList.add('colab-df-quickchart-complete');\n",
              "        }\n",
              "        (() => {\n",
              "          let quickchartButtonEl =\n",
              "            document.querySelector('#df-dcf19013-0a60-4fd9-b2bc-577b6aaef29c button');\n",
              "          quickchartButtonEl.style.display =\n",
              "            google.colab.kernel.accessAllowed ? 'block' : 'none';\n",
              "        })();\n",
              "      </script>\n",
              "    </div>\n",
              "\n",
              "    </div>\n",
              "  </div>\n"
            ],
            "application/vnd.google.colaboratory.intrinsic+json": {
              "type": "dataframe",
              "variable_name": "tienda1",
              "summary": "{\n  \"name\": \"tienda1\",\n  \"rows\": 2359,\n  \"fields\": [\n    {\n      \"column\": \"Producto\",\n      \"properties\": {\n        \"dtype\": \"category\",\n        \"num_unique_values\": 51,\n        \"samples\": [\n          \"Guitarra ac\\u00fastica\",\n          \"Bal\\u00f3n de baloncesto\",\n          \"Smartwatch\"\n        ],\n        \"semantic_type\": \"\",\n        \"description\": \"\"\n      }\n    },\n    {\n      \"column\": \"Categor\\u00eda del Producto\",\n      \"properties\": {\n        \"dtype\": \"category\",\n        \"num_unique_values\": 8,\n        \"samples\": [\n          \"Muebles\",\n          \"Deportes y diversi\\u00f3n\",\n          \"Electr\\u00f3nicos\"\n        ],\n        \"semantic_type\": \"\",\n        \"description\": \"\"\n      }\n    },\n    {\n      \"column\": \"Precio\",\n      \"properties\": {\n        \"dtype\": \"number\",\n        \"std\": 614686.7653873172,\n        \"min\": 7600.0,\n        \"max\": 2977000.0,\n        \"num_unique_values\": 1937,\n        \"samples\": [\n          2499400.0,\n          14800.0,\n          80500.0\n        ],\n        \"semantic_type\": \"\",\n        \"description\": \"\"\n      }\n    },\n    {\n      \"column\": \"Costo de env\\u00edo\",\n      \"properties\": {\n        \"dtype\": \"number\",\n        \"std\": 32860.0017825605,\n        \"min\": 0.0,\n        \"max\": 160800.0,\n        \"num_unique_values\": 753,\n        \"samples\": [\n          117800.0,\n          54700.0,\n          45600.0\n        ],\n        \"semantic_type\": \"\",\n        \"description\": \"\"\n      }\n    },\n    {\n      \"column\": \"Fecha de Compra\",\n      \"properties\": {\n        \"dtype\": \"object\",\n        \"num_unique_values\": 1018,\n        \"samples\": [\n          \"15/09/2022\",\n          \"03/06/2020\",\n          \"06/11/2021\"\n        ],\n        \"semantic_type\": \"\",\n        \"description\": \"\"\n      }\n    },\n    {\n      \"column\": \"Vendedor\",\n      \"properties\": {\n        \"dtype\": \"category\",\n        \"num_unique_values\": 14,\n        \"samples\": [\n          \"Juliana Costa\",\n          \"Mariana Herrera\",\n          \"Pedro Gomez\"\n        ],\n        \"semantic_type\": \"\",\n        \"description\": \"\"\n      }\n    },\n    {\n      \"column\": \"Lugar de Compra\",\n      \"properties\": {\n        \"dtype\": \"category\",\n        \"num_unique_values\": 19,\n        \"samples\": [\n          \"Bogot\\u00e1\",\n          \"Pereira\",\n          \"Neiva\"\n        ],\n        \"semantic_type\": \"\",\n        \"description\": \"\"\n      }\n    },\n    {\n      \"column\": \"Calificaci\\u00f3n\",\n      \"properties\": {\n        \"dtype\": \"number\",\n        \"std\": 1,\n        \"min\": 1,\n        \"max\": 5,\n        \"num_unique_values\": 5,\n        \"samples\": [\n          1,\n          2,\n          5\n        ],\n        \"semantic_type\": \"\",\n        \"description\": \"\"\n      }\n    },\n    {\n      \"column\": \"M\\u00e9todo de pago\",\n      \"properties\": {\n        \"dtype\": \"category\",\n        \"num_unique_values\": 4,\n        \"samples\": [\n          \"Nequi\",\n          \"Tarjeta de d\\u00e9bito\",\n          \"Tarjeta de cr\\u00e9dito\"\n        ],\n        \"semantic_type\": \"\",\n        \"description\": \"\"\n      }\n    },\n    {\n      \"column\": \"Cantidad de cuotas\",\n      \"properties\": {\n        \"dtype\": \"number\",\n        \"std\": 2,\n        \"min\": 1,\n        \"max\": 24,\n        \"num_unique_values\": 15,\n        \"samples\": [\n          7,\n          14,\n          8\n        ],\n        \"semantic_type\": \"\",\n        \"description\": \"\"\n      }\n    },\n    {\n      \"column\": \"lat\",\n      \"properties\": {\n        \"dtype\": \"number\",\n        \"std\": 2.2874452492678627,\n        \"min\": -4.21528,\n        \"max\": 11.54444,\n        \"num_unique_values\": 19,\n        \"samples\": [\n          4.60971,\n          4.81333,\n          2.9273\n        ],\n        \"semantic_type\": \"\",\n        \"description\": \"\"\n      }\n    },\n    {\n      \"column\": \"lon\",\n      \"properties\": {\n        \"dtype\": \"number\",\n        \"std\": 1.2178272727088486,\n        \"min\": -77.28111,\n        \"max\": -67.9239,\n        \"num_unique_values\": 19,\n        \"samples\": [\n          -74.08175,\n          -75.69611,\n          -75.28189\n        ],\n        \"semantic_type\": \"\",\n        \"description\": \"\"\n      }\n    }\n  ]\n}"
            }
          },
          "metadata": {},
          "execution_count": 8
        }
      ],
      "source": [
        "import pandas as pd\n",
        "\n",
        "url = \"https://raw.githubusercontent.com/alura-es-cursos/challenge1-data-science-latam/refs/heads/main/base-de-datos-challenge1-latam/tienda_1%20.csv\"\n",
        "url2 = \"https://raw.githubusercontent.com/alura-es-cursos/challenge1-data-science-latam/refs/heads/main/base-de-datos-challenge1-latam/tienda_2.csv\"\n",
        "url3 = \"https://raw.githubusercontent.com/alura-es-cursos/challenge1-data-science-latam/refs/heads/main/base-de-datos-challenge1-latam/tienda_3.csv\"\n",
        "url4 = \"https://raw.githubusercontent.com/alura-es-cursos/challenge1-data-science-latam/refs/heads/main/base-de-datos-challenge1-latam/tienda_4.csv\"\n",
        "\n",
        "tienda1 = pd.read_csv(url)\n",
        "tienda2 = pd.read_csv(url2)\n",
        "tienda3 = pd.read_csv(url3)\n",
        "tienda4 = pd.read_csv(url4)\n",
        "\n",
        "tienda1.head()"
      ]
    },
    {
      "cell_type": "markdown",
      "source": [
        "#1. Análisis de facturación\n",
        "\n"
      ],
      "metadata": {
        "id": "X62IW3KFUIYm"
      }
    },
    {
      "cell_type": "code",
      "source": [
        "Ingreso_tienda1 = tienda1['Precio'].sum()\n",
        "Ingreso_tienda2 = tienda2['Precio'].sum()\n",
        "Ingreso_tienda3 = tienda3['Precio'].sum()\n",
        "Ingreso_tienda4 = tienda4['Precio'].sum()\n",
        "\n",
        "Ingreso_tienda1_ = tienda1['Precio'].sum() / 1000000\n",
        "Ingreso_tienda2_ = tienda2['Precio'].sum() / 1000000\n",
        "Ingreso_tienda3_ = tienda3['Precio'].sum() / 1000000\n",
        "Ingreso_tienda4_ = tienda4['Precio'].sum() / 1000000\n",
        "\n",
        "print(f'El ingreso de la tienda 1 fue {Ingreso_tienda1_:,.2f} millones de dolares')\n",
        "print(f'El ingreso de la tienda 2 fue {Ingreso_tienda2_:,.2f} millones de dolares')\n",
        "print(f'El ingreso de la tienda 3 fue {Ingreso_tienda3_:,.2f} millones de dolares')\n",
        "print(f'El ingreso de la tienda 4 fue {Ingreso_tienda4_:,.2f} millones de dolares')"
      ],
      "metadata": {
        "id": "xykobSftV64I",
        "colab": {
          "base_uri": "https://localhost:8080/"
        },
        "outputId": "b6b6ece5-6609-4a08-8916-b42febd90b8a"
      },
      "execution_count": 9,
      "outputs": [
        {
          "output_type": "stream",
          "name": "stdout",
          "text": [
            "El ingreso de la tienda 1 fue 1,150.88 millones de dolares\n",
            "El ingreso de la tienda 2 fue 1,116.34 millones de dolares\n",
            "El ingreso de la tienda 3 fue 1,098.02 millones de dolares\n",
            "El ingreso de la tienda 4 fue 1,038.38 millones de dolares\n"
          ]
        }
      ]
    },
    {
      "cell_type": "markdown",
      "source": [
        "# 2. Ventas por categoría"
      ],
      "metadata": {
        "id": "2V_vcAPzWZmR"
      }
    },
    {
      "cell_type": "code",
      "source": [
        "ingreso_por_categoria_tienda1 = tienda1.groupby('Categoría del Producto')['Precio'].sum() / 1000000\n",
        "ingreso_por_categoria_tienda2 = tienda2.groupby('Categoría del Producto')['Precio'].sum() / 1000000\n",
        "ingreso_por_categoria_tienda3 = tienda3.groupby('Categoría del Producto')['Precio'].sum() / 1000000\n",
        "ingreso_por_categoria_tienda4 = tienda4.groupby('Categoría del Producto')['Precio'].sum() / 1000000\n",
        "\n",
        "ingreso_por_categoria_tienda1_sorted = ingreso_por_categoria_tienda1.sort_values(ascending=False)\n",
        "ingreso_por_categoria_tienda2_sorted = ingreso_por_categoria_tienda2.sort_values(ascending=False)\n",
        "ingreso_por_categoria_tienda3_sorted = ingreso_por_categoria_tienda3.sort_values(ascending=False)\n",
        "ingreso_por_categoria_tienda4_sorted = ingreso_por_categoria_tienda4.sort_values(ascending=False)"
      ],
      "metadata": {
        "id": "A34YupIuYhfF"
      },
      "execution_count": 11,
      "outputs": []
    },
    {
      "cell_type": "code",
      "source": [
        "#Ingreso por categoría en monto monetario\n",
        "Ingreso_por_categoria_df = pd.DataFrame({\n",
        "    'Tienda 1': ingreso_por_categoria_tienda1,\n",
        "    'Tienda 2': ingreso_por_categoria_tienda2,\n",
        "    'Tienda 3': ingreso_por_categoria_tienda3,\n",
        "    'Tienda 4': ingreso_por_categoria_tienda4,\n",
        "}).fillna(0).sort_values(by='Tienda 1', ascending=False)\n",
        "\n",
        "print('Ingreso por categoría (en millones de dolares) \\n',Ingreso_por_categoria_df)"
      ],
      "metadata": {
        "id": "yZR6cOjXYSk1",
        "colab": {
          "base_uri": "https://localhost:8080/"
        },
        "outputId": "b4d8def0-eb1f-49d6-999d-6be15c0ef394"
      },
      "execution_count": 13,
      "outputs": [
        {
          "output_type": "stream",
          "name": "stdout",
          "text": [
            "Ingreso por categoría (en millones de dolares) \n",
            "                          Tienda 1  Tienda 2  Tienda 3  Tienda 4\n",
            "Categoría del Producto                                         \n",
            "Electrónicos             429.4935  410.8311  410.7758  409.4761\n",
            "Electrodomésticos        363.6852  348.5678  329.2379  283.2602\n",
            "Muebles                  187.6337  176.4263  201.0721  192.5289\n",
            "Instrumentos musicales    91.2990  104.9903   77.3809   75.1024\n",
            "Deportes y diversión      39.2900   34.7445   35.5931   33.3501\n",
            "Juguetes                  17.9957   15.9454   19.4011   20.2622\n",
            "Artículos para el hogar   12.6984   14.7469   15.0600   15.0745\n",
            "Libros                     8.7849   10.0912    9.4987    9.3213\n"
          ]
        }
      ]
    },
    {
      "cell_type": "code",
      "source": [
        "#Conteo de ventas por categoría\n",
        "\n",
        "conteo_por_categoria_tienda1 = tienda1.groupby('Categoría del Producto').size().reset_index(name = \"Cantidad\").set_index('Categoría del Producto')\n",
        "conteo_por_categoria_tienda2 = tienda2.groupby('Categoría del Producto').size().reset_index(name = \"Cantidad\").set_index('Categoría del Producto')\n",
        "conteo_por_categoria_tienda3 = tienda3.groupby('Categoría del Producto').size().reset_index(name = \"Cantidad\").set_index('Categoría del Producto')\n",
        "conteo_por_categoria_tienda4 = tienda4.groupby('Categoría del Producto').size().reset_index(name = \"Cantidad\").set_index('Categoría del Producto')\n",
        "\n",
        "\n",
        "Conteo_por_categoria_df = pd.DataFrame({\n",
        "    'Tienda 1': conteo_por_categoria_tienda1['Cantidad'],\n",
        "    'Tienda 2': conteo_por_categoria_tienda2['Cantidad'],\n",
        "    'Tienda 3': conteo_por_categoria_tienda3['Cantidad'],\n",
        "    'Tienda 4': conteo_por_categoria_tienda4['Cantidad'],\n",
        "}).fillna(0).sort_values(by='Tienda 1', ascending = False)\n",
        "\n",
        "print('Conteo por categoría \\n',Conteo_por_categoria_df)\n"
      ],
      "metadata": {
        "colab": {
          "base_uri": "https://localhost:8080/"
        },
        "id": "2gnG3YD3drYA",
        "outputId": "a16edc88-86bb-4ade-81b4-f569fb3b18ba"
      },
      "execution_count": 14,
      "outputs": [
        {
          "output_type": "stream",
          "name": "stdout",
          "text": [
            "Conteo por categoría \n",
            "                          Tienda 1  Tienda 2  Tienda 3  Tienda 4\n",
            "Categoría del Producto                                         \n",
            "Muebles                       465       442       499       480\n",
            "Electrónicos                  448       422       451       451\n",
            "Juguetes                      324       313       315       338\n",
            "Electrodomésticos             312       305       278       254\n",
            "Deportes y diversión          284       275       277       277\n",
            "Instrumentos musicales        182       224       177       170\n",
            "Libros                        173       197       185       187\n",
            "Artículos para el hogar       171       181       177       201\n"
          ]
        }
      ]
    },
    {
      "cell_type": "code",
      "source": [
        "Maximos_por_categoria_df = pd.DataFrame({\n",
        "     'Tienda 1': (ingreso_por_categoria_tienda1.idxmax(), ingreso_por_categoria_tienda1.max()),\n",
        "     'Tienda 2': (ingreso_por_categoria_tienda2.idxmax(), ingreso_por_categoria_tienda2.max()),\n",
        "     'Tienda 3': (ingreso_por_categoria_tienda3.idxmax(), ingreso_por_categoria_tienda3.max()),\n",
        "     'Tienda 4': (ingreso_por_categoria_tienda4.idxmax(), ingreso_por_categoria_tienda4.max()),\n",
        "     })\n",
        "\n",
        "print('Ingreso por categoría (en millones de dolares) \\n',Maximos_por_categoria_df)"
      ],
      "metadata": {
        "colab": {
          "base_uri": "https://localhost:8080/"
        },
        "id": "Qtyzz3LZdt5U",
        "outputId": "952b161f-bdcc-4a3d-c25d-6de41315870f"
      },
      "execution_count": 15,
      "outputs": [
        {
          "output_type": "stream",
          "name": "stdout",
          "text": [
            "Ingreso por categoría (en millones de dolares) \n",
            "        Tienda 1      Tienda 2      Tienda 3      Tienda 4\n",
            "0  Electrónicos  Electrónicos  Electrónicos  Electrónicos\n",
            "1      429.4935      410.8311      410.7758      409.4761\n"
          ]
        }
      ]
    },
    {
      "cell_type": "code",
      "source": [
        "#Esto no deberia ser con el de ingreso sino el contador\n",
        "\n",
        "maximo_categoria_tienda1 = ingreso_por_categoria_tienda1.idxmax(), ingreso_por_categoria_tienda1.max()\n",
        "maximo_categoria_tienda2 = ingreso_por_categoria_tienda2.idxmax(), ingreso_por_categoria_tienda2.max()\n",
        "maximo_categoria_tienda3 = ingreso_por_categoria_tienda3.idxmax(), ingreso_por_categoria_tienda3.max()\n",
        "maximo_categoria_tienda4 = ingreso_por_categoria_tienda4.idxmax(), ingreso_por_categoria_tienda4.max()\n",
        "\n",
        "print(f'Los máximos por categoria de la tienda 1 son: {maximo_categoria_tienda1}')\n",
        "print(f'Los máximos por categoria de la tienda 2 son: {maximo_categoria_tienda2}')\n",
        "print(f'Los máximos por categoria de la tienda 3 son: {maximo_categoria_tienda3}')\n",
        "print(f'Los máximos por categoria de la tienda 4 son: {maximo_categoria_tienda4}')"
      ],
      "metadata": {
        "colab": {
          "base_uri": "https://localhost:8080/"
        },
        "id": "EtOen1GJd1te",
        "outputId": "7c6d551b-11ec-4f3d-8aca-495aa5df0f2d"
      },
      "execution_count": 17,
      "outputs": [
        {
          "output_type": "stream",
          "name": "stdout",
          "text": [
            "Los máximos por categoria de la tienda 1 son: ('Electrónicos', 429.4935)\n",
            "Los máximos por categoria de la tienda 2 son: ('Electrónicos', 410.8311)\n",
            "Los máximos por categoria de la tienda 3 son: ('Electrónicos', 410.7758)\n",
            "Los máximos por categoria de la tienda 4 son: ('Electrónicos', 409.4761)\n"
          ]
        }
      ]
    },
    {
      "cell_type": "code",
      "source": [
        "minimo_categoria_tienda1 = ingreso_por_categoria_tienda1.idxmin(), ingreso_por_categoria_tienda1.min()\n",
        "minimo_categoria_tienda2 = ingreso_por_categoria_tienda2.idxmin(), ingreso_por_categoria_tienda2.min()\n",
        "minimo_categoria_tienda3 = ingreso_por_categoria_tienda3.idxmin(), ingreso_por_categoria_tienda3.min()\n",
        "minimo_categoria_tienda4 = ingreso_por_categoria_tienda4.idxmin(), ingreso_por_categoria_tienda4.min()\n",
        "\n",
        "print(f'Los mínimos por categoria de la tienda 1 son: {minimo_categoria_tienda1}')\n",
        "print(f'Los mínimos por categoria de la tienda 2 son: {minimo_categoria_tienda2}')\n",
        "print(f'Los mínimos por categoria de la tienda 3 son: {minimo_categoria_tienda3}')\n",
        "print(f'Los mínimos por categoria de la tienda 4 son: {minimo_categoria_tienda4}')"
      ],
      "metadata": {
        "colab": {
          "base_uri": "https://localhost:8080/"
        },
        "id": "i5R1HJuHd5d_",
        "outputId": "b96e8701-dbaf-4c36-98b9-200871c0dc00"
      },
      "execution_count": 18,
      "outputs": [
        {
          "output_type": "stream",
          "name": "stdout",
          "text": [
            "Los mínimos por categoria de la tienda 1 son: ('Libros', 8.7849)\n",
            "Los mínimos por categoria de la tienda 2 son: ('Libros', 10.0912)\n",
            "Los mínimos por categoria de la tienda 3 son: ('Libros', 9.4987)\n",
            "Los mínimos por categoria de la tienda 4 son: ('Libros', 9.3213)\n"
          ]
        }
      ]
    },
    {
      "cell_type": "markdown",
      "source": [
        "# 3. Calificación promedio de la tienda\n"
      ],
      "metadata": {
        "id": "Rq6tU_xSY3jk"
      }
    },
    {
      "cell_type": "code",
      "source": [
        "calificacion_prom_tienda1 = tienda1['Calificación'].mean()\n",
        "calificacion_prom_tienda2 = tienda2['Calificación'].mean()\n",
        "calificacion_prom_tienda3 = tienda3['Calificación'].mean()\n",
        "calificacion_prom_tienda4 = tienda4['Calificación'].mean()\n",
        "\n",
        "print(f'La calificación promedio de la tienda 1 es: {calificacion_prom_tienda1:.2f}')\n",
        "print(f'La calificación promedio de la tienda 2 es: {calificacion_prom_tienda2:.2f}')\n",
        "print(f'La calificación promedio de la tienda 3 es: {calificacion_prom_tienda3:.2f}')\n",
        "print(f'La calificación promedio de la tienda 4 es: {calificacion_prom_tienda4:.2f}')\n"
      ],
      "metadata": {
        "id": "bh3jjjJwY5MU",
        "colab": {
          "base_uri": "https://localhost:8080/"
        },
        "outputId": "b92d3a0e-86a8-4314-fc28-3ed96a45dc8c"
      },
      "execution_count": 19,
      "outputs": [
        {
          "output_type": "stream",
          "name": "stdout",
          "text": [
            "La calificación promedio de la tienda 1 es: 3.98\n",
            "La calificación promedio de la tienda 2 es: 4.04\n",
            "La calificación promedio de la tienda 3 es: 4.05\n",
            "La calificación promedio de la tienda 4 es: 4.00\n"
          ]
        }
      ]
    },
    {
      "cell_type": "code",
      "source": [],
      "metadata": {
        "id": "I0KkjPoTY88F"
      },
      "execution_count": null,
      "outputs": []
    },
    {
      "cell_type": "markdown",
      "source": [
        "# 4. Productos más y menos vendidos"
      ],
      "metadata": {
        "id": "DmNp1KPBZCm-"
      }
    },
    {
      "cell_type": "code",
      "source": [
        "# Más vendidos\n",
        "mas_vendido_tienda1 = tienda1['Producto'].value_counts().idxmax()\n",
        "mas_vendido_tienda2 = tienda2['Producto'].value_counts().idxmax()\n",
        "mas_vendido_tienda3 = tienda3['Producto'].value_counts().idxmax()\n",
        "mas_vendido_tienda4 = tienda4['Producto'].value_counts().idxmax()\n",
        "\n",
        "print(f'El producto más vendido de la tienda 1 es: {mas_vendido_tienda1}')\n",
        "print(f'El producto más vendido de la tienda 2 es: {mas_vendido_tienda2}')\n",
        "print(f'El producto más vendido de la tienda 3 es: {mas_vendido_tienda3}')\n",
        "print(f'El producto más vendido de la tienda 4 es: {mas_vendido_tienda4}')\n",
        "\n",
        "# Menos vendidos\n",
        "menos_vendido_tienda1 = tienda1['Producto'].value_counts().idxmin()\n",
        "menos_vendido_tienda2 = tienda2['Producto'].value_counts().idxmin()\n",
        "menos_vendido_tienda3 = tienda3['Producto'].value_counts().idxmin()\n",
        "menos_vendido_tienda4 = tienda4['Producto'].value_counts().idxmin()\n",
        "\n",
        "print(f'El producto menos vendido de la tienda 1 es: {menos_vendido_tienda1}')\n",
        "print(f'El producto menos vendido de la tienda 2 es: {menos_vendido_tienda2}')\n",
        "print(f'El producto menos vendido de la tienda 3 es: {menos_vendido_tienda3}')\n",
        "print(f'El producto menos vendido de la tienda 4 es: {menos_vendido_tienda4}')\n"
      ],
      "metadata": {
        "id": "qoyjqijQZHfF",
        "colab": {
          "base_uri": "https://localhost:8080/"
        },
        "outputId": "6c76e00f-95cb-4b34-d80d-130b0266eb64"
      },
      "execution_count": 20,
      "outputs": [
        {
          "output_type": "stream",
          "name": "stdout",
          "text": [
            "El producto más vendido de la tienda 1 es: Microondas\n",
            "El producto más vendido de la tienda 2 es: Iniciando en programación\n",
            "El producto más vendido de la tienda 3 es: Kit de bancas\n",
            "El producto más vendido de la tienda 4 es: Cama box\n",
            "El producto menos vendido de la tienda 1 es: Auriculares con micrófono\n",
            "El producto menos vendido de la tienda 2 es: Juego de mesa\n",
            "El producto menos vendido de la tienda 3 es: Bloques de construcción\n",
            "El producto menos vendido de la tienda 4 es: Guitarra eléctrica\n"
          ]
        }
      ]
    },
    {
      "cell_type": "code",
      "source": [],
      "metadata": {
        "id": "0Sw3sd4IZIGW"
      },
      "execution_count": null,
      "outputs": []
    },
    {
      "cell_type": "markdown",
      "source": [
        "# 5. Envío promedio por tienda"
      ],
      "metadata": {
        "id": "Fl0cGi3bZKqU"
      }
    },
    {
      "cell_type": "code",
      "source": [
        "envio_prom_tienda1 = tienda1['Costo de envío'].mean()\n",
        "envio_prom_tienda2 = tienda2['Costo de envío'].mean()\n",
        "envio_prom_tienda3 = tienda3['Costo de envío'].mean()\n",
        "envio_prom_tienda4 = tienda4['Costo de envío'].mean()\n",
        "\n",
        "print(f'El costo de envío promedio en la tienda 1 es: {envio_prom_tienda1:.2f}')\n",
        "print(f'El costo de envío promedio en la tienda 2 es: {envio_prom_tienda2:.2f}')\n",
        "print(f'El costo de envío promedio en la tienda 3 es: {envio_prom_tienda3:.2f}')\n",
        "print(f'El costo de envío promedio en la tienda 4 es: {envio_prom_tienda4:.2f}')\n"
      ],
      "metadata": {
        "id": "S2JeaCykZNy9",
        "colab": {
          "base_uri": "https://localhost:8080/"
        },
        "outputId": "164e0a24-1602-448f-8d0c-d4a9740b51db"
      },
      "execution_count": 21,
      "outputs": [
        {
          "output_type": "stream",
          "name": "stdout",
          "text": [
            "El costo de envío promedio en la tienda 1 es: 26018.61\n",
            "El costo de envío promedio en la tienda 2 es: 25216.24\n",
            "El costo de envío promedio en la tienda 3 es: 24805.68\n",
            "El costo de envío promedio en la tienda 4 es: 23459.46\n"
          ]
        }
      ]
    },
    {
      "cell_type": "code",
      "source": [
        "import matplotlib.pyplot as plt\n",
        "\n",
        "#Resumen\n",
        "resumen = pd.DataFrame({\n",
        "    \"Facturación (M)\": [\n",
        "        tienda1['Precio'].sum()/1_000_000,\n",
        "        tienda2['Precio'].sum()/1_000_000,\n",
        "        tienda3['Precio'].sum()/1_000_000,\n",
        "        tienda4['Precio'].sum()/1_000_000\n",
        "    ],\n",
        "    \"Calificación promedio\": [\n",
        "        tienda1['Calificación'].mean(),\n",
        "        tienda2['Calificación'].mean(),\n",
        "        tienda3['Calificación'].mean(),\n",
        "        tienda4['Calificación'].mean()\n",
        "    ],\n",
        "    \"Envío promedio\": [\n",
        "        tienda1['Costo de envío'].mean(),\n",
        "        tienda2['Costo de envío'].mean(),\n",
        "        tienda3['Costo de envío'].mean(),\n",
        "        tienda4['Costo de envío'].mean()\n",
        "    ]\n",
        "}, index=[\"Tienda 1\", \"Tienda 2\", \"Tienda 3\", \"Tienda 4\"])\n",
        "\n",
        "print(\"\\n📊 Resumen comparativo de las tiendas:\\n\")\n",
        "print(resumen)"
      ],
      "metadata": {
        "id": "0tSdCie9ZQlt",
        "colab": {
          "base_uri": "https://localhost:8080/"
        },
        "outputId": "ff6466f6-d4ce-4098-9391-0bf355c55216"
      },
      "execution_count": 22,
      "outputs": [
        {
          "output_type": "stream",
          "name": "stdout",
          "text": [
            "\n",
            "📊 Resumen comparativo de las tiendas:\n",
            "\n",
            "          Facturación (M)  Calificación promedio  Envío promedio\n",
            "Tienda 1        1150.8804               3.976685    26018.609580\n",
            "Tienda 2        1116.3435               4.037304    25216.235693\n",
            "Tienda 3        1098.0196               4.048326    24805.680373\n",
            "Tienda 4        1038.3757               3.995759    23459.457167\n"
          ]
        }
      ]
    },
    {
      "cell_type": "code",
      "source": [
        "# Facturación total por tienda\n",
        "plt.figure(figsize=(8,5))\n",
        "resumen[\"Facturación (M)\"].plot(kind=\"bar\", color=\"skyblue\", edgecolor=\"black\")\n",
        "plt.title(\"Facturación total por tienda (en millones de dólares)\")\n",
        "plt.ylabel(\"Facturación (M)\")\n",
        "plt.xlabel(\"Tiendas\")\n",
        "plt.xticks(rotation=0)\n",
        "plt.show()"
      ],
      "metadata": {
        "colab": {
          "base_uri": "https://localhost:8080/",
          "height": 488
        },
        "id": "75YEGmIOePve",
        "outputId": "5b56703c-986a-4916-b644-2871ca26a118"
      },
      "execution_count": 23,
      "outputs": [
        {
          "output_type": "display_data",
          "data": {
            "text/plain": [
              "<Figure size 800x500 with 1 Axes>"
            ],
            "image/png": "[encoded data removed]"
          },
          "metadata": {}
        }
      ]
    },
    {
      "cell_type": "code",
      "source": [
        "# Calificación promedio por tienda\n",
        "plt.figure(figsize=(8,5))\n",
        "resumen[\"Calificación promedio\"].plot(kind=\"bar\", color=\"lightgreen\", edgecolor=\"black\")\n",
        "plt.title(\"Calificación promedio por tienda\")\n",
        "plt.ylabel(\"Calificación\")\n",
        "plt.xlabel(\"Tiendas\")\n",
        "plt.xticks(rotation=0)\n",
        "plt.show()"
      ],
      "metadata": {
        "colab": {
          "base_uri": "https://localhost:8080/",
          "height": 488
        },
        "id": "W005W0CAeTHa",
        "outputId": "aea979ae-70f8-42e2-9d25-53cd2aff2b9d"
      },
      "execution_count": 24,
      "outputs": [
        {
          "output_type": "display_data",
          "data": {
            "text/plain": [
              "<Figure size 800x500 with 1 Axes>"
            ],
            "image/png": "[encoded data removed]"
          },
          "metadata": {}
        }
      ]
    },
    {
      "cell_type": "code",
      "source": [
        "# Costo de envío promedio por tienda\n",
        "plt.figure(figsize=(8,5))\n",
        "resumen[\"Envío promedio\"].plot(kind=\"bar\", color=\"salmon\", edgecolor=\"black\")\n",
        "plt.title(\"Costo de envío promedio por tienda\")\n",
        "plt.ylabel(\"Costo de envío ($)\")\n",
        "plt.xlabel(\"Tiendas\")\n",
        "plt.xticks(rotation=0)\n",
        "plt.show()"
      ],
      "metadata": {
        "colab": {
          "base_uri": "https://localhost:8080/",
          "height": 488
        },
        "id": "7dQEG3SyeVK7",
        "outputId": "0f6d1567-6a76-4392-ed6b-f006a056b03b"
      },
      "execution_count": 25,
      "outputs": [
        {
          "output_type": "display_data",
          "data": {
            "text/plain": [
              "<Figure size 800x500 with 1 Axes>"
            ],
            "image/png": "[encoded data removed]"
          },
          "metadata": {}
        }
      ]
    },
    {
      "cell_type": "code",
      "source": [
        "# Distribución de ventas por categoría en la tienda con menos ingresos\n",
        "tienda_menos_facturacion = resumen[\"Facturación (M)\"].idxmin()\n",
        "if tienda_menos_facturacion == \"Tienda 1\":\n",
        "    categoria_plot = tienda1.groupby(\"Categoría del Producto\")[\"Precio\"].sum()\n",
        "elif tienda_menos_facturacion == \"Tienda 2\":\n",
        "    categoria_plot = tienda2.groupby(\"Categoría del Producto\")[\"Precio\"].sum()\n",
        "elif tienda_menos_facturacion == \"Tienda 3\":\n",
        "    categoria_plot = tienda3.groupby(\"Categoría del Producto\")[\"Precio\"].sum()\n",
        "else:\n",
        "    categoria_plot = tienda4.groupby(\"Categoría del Producto\")[\"Precio\"].sum()\n",
        "\n",
        "plt.figure(figsize=(7,7))\n",
        "categoria_plot.plot(kind=\"pie\", autopct=\"%1.1f%%\", startangle=90, colormap=\"tab20\")\n",
        "plt.title(f\"Distribución de ventas por categoría en {tienda_menos_facturacion}\")\n",
        "plt.ylabel(\"\")\n",
        "plt.show()\n",
        "\n",
        "#Recomendación\n",
        "peor_tienda = resumen.sort_values(by=[\"Facturación (M)\", \"Calificación promedio\"], ascending=[True, True]).head(1)\n",
        "print(\"Recomendación final:\")\n",
        "print(f\"Se recomienda vender la {peor_tienda.index[0]} porque es la que menos ingresos genera y tiene menor atractivo para mantenerla en el negocio.\")"
      ],
      "metadata": {
        "colab": {
          "base_uri": "https://localhost:8080/",
          "height": 633
        },
        "id": "J4L9rNOZeWOO",
        "outputId": "26630a5e-964b-4971-ef00-46223f753d75"
      },
      "execution_count": 36,
      "outputs": [
        {
          "output_type": "display_data",
          "data": {
            "text/plain": [
              "<Figure size 700x700 with 1 Axes>"
            ],
            "image/png": "[encoded data removed]"
          },
          "metadata": {}
        },
        {
          "output_type": "stream",
          "name": "stdout",
          "text": [
            "Recomendación final:\n",
            "Se recomienda vender la Tienda 4 porque es la que menos ingresos genera y tiene menor atractivo para mantenerla en el negocio.\n"
          ]
        }
      ]
    }
  ]
}